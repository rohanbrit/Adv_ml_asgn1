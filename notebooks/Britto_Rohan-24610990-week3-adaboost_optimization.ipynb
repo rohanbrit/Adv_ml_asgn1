{
 "cells": [
  {
   "cell_type": "markdown",
   "id": "aa19721f-8953-4e60-a664-13e12373a268",
   "metadata": {},
   "source": [
    "# Advanced Machine Learning - Assignment 1\n",
    "### Rohan Rocky Britto - Student ID: 24610990"
   ]
  },
  {
   "cell_type": "markdown",
   "id": "89504e7c-05b3-4e7d-8773-028fd79ca6ed",
   "metadata": {},
   "source": [
    "## Data Processing"
   ]
  },
  {
   "cell_type": "markdown",
   "id": "254993de-4b6b-4467-811b-1151739478c8",
   "metadata": {},
   "source": [
    "Import required packages"
   ]
  },
  {
   "cell_type": "code",
   "execution_count": 1,
   "id": "a3b9d7e7-357f-4d63-9908-f35233b4ea7e",
   "metadata": {},
   "outputs": [],
   "source": [
    "import pandas as pd\n",
    "import numpy as np\n",
    "import re"
   ]
  },
  {
   "cell_type": "markdown",
   "id": "e2a5daf2-98da-476d-8d85-1b0798f60029",
   "metadata": {},
   "source": [
    "Import the data processed and stored in previous experiments"
   ]
  },
  {
   "cell_type": "code",
   "execution_count": 2,
   "id": "b7ee43dc-df05-4ad1-8562-f761bd270220",
   "metadata": {},
   "outputs": [],
   "source": [
    "X_train = pd.read_csv('../data/processed/X_train.csv')\n",
    "X_val = pd.read_csv('../data/processed/X_val.csv')\n",
    "X_test = pd.read_csv('../data/processed/X_test.csv')\n",
    "y_train = pd.read_csv('../data/processed/y_train.csv')\n",
    "y_val = pd.read_csv('../data/processed/y_val.csv')"
   ]
  },
  {
   "cell_type": "markdown",
   "id": "99e83f06-a1cb-467b-b9a6-f0dd34d756cf",
   "metadata": {},
   "source": [
    "Import the test data to retrieve player_id"
   ]
  },
  {
   "cell_type": "code",
   "execution_count": 3,
   "id": "706097bc-46d5-4fd4-a5e9-a6fba6285562",
   "metadata": {},
   "outputs": [],
   "source": [
    "df_test = pd.read_csv('../data/raw/test.csv')"
   ]
  },
  {
   "cell_type": "markdown",
   "id": "e9691347-a6d2-44de-9248-17214039f456",
   "metadata": {},
   "source": [
    "## Model Building and Evaluation"
   ]
  },
  {
   "cell_type": "markdown",
   "id": "e39a2c65-1a09-4a78-bbd0-03744a69a365",
   "metadata": {},
   "source": [
    "Import fit_predict_proba function from the saved functions"
   ]
  },
  {
   "cell_type": "code",
   "execution_count": 4,
   "id": "26accec1-89b6-4780-93cb-b9442fc55d67",
   "metadata": {},
   "outputs": [],
   "source": [
    "import sys\n",
    "sys.path.append('../src/models')\n",
    "from functions import fit_predict_proba"
   ]
  },
  {
   "cell_type": "markdown",
   "id": "412d1bad-ec27-4cfd-8327-72ce82abfa37",
   "metadata": {},
   "source": [
    "### AdaBoost"
   ]
  },
  {
   "cell_type": "markdown",
   "id": "7cd30e42-67d4-4e74-bcc9-ceca0f4076e1",
   "metadata": {},
   "source": [
    "As AdaBoost performed best, we will be using hyperparameter tuning on it for better performance and to reduce overfitting"
   ]
  },
  {
   "cell_type": "code",
   "execution_count": 5,
   "id": "c3398492-7456-4844-8d96-23dce4c1a064",
   "metadata": {},
   "outputs": [],
   "source": [
    "from sklearn.ensemble import AdaBoostClassifier"
   ]
  },
  {
   "cell_type": "code",
   "execution_count": 6,
   "id": "2268c224-f044-41d0-b7e5-cb8394551a61",
   "metadata": {},
   "outputs": [],
   "source": [
    "model = AdaBoostClassifier(random_state=8)"
   ]
  },
  {
   "cell_type": "code",
   "execution_count": 7,
   "id": "0ba47b2b-ff10-4736-ac35-13a988ac8b66",
   "metadata": {},
   "outputs": [
    {
     "data": {
      "text/html": [
       "<style>#sk-container-id-1 {color: black;}#sk-container-id-1 pre{padding: 0;}#sk-container-id-1 div.sk-toggleable {background-color: white;}#sk-container-id-1 label.sk-toggleable__label {cursor: pointer;display: block;width: 100%;margin-bottom: 0;padding: 0.3em;box-sizing: border-box;text-align: center;}#sk-container-id-1 label.sk-toggleable__label-arrow:before {content: \"▸\";float: left;margin-right: 0.25em;color: #696969;}#sk-container-id-1 label.sk-toggleable__label-arrow:hover:before {color: black;}#sk-container-id-1 div.sk-estimator:hover label.sk-toggleable__label-arrow:before {color: black;}#sk-container-id-1 div.sk-toggleable__content {max-height: 0;max-width: 0;overflow: hidden;text-align: left;background-color: #f0f8ff;}#sk-container-id-1 div.sk-toggleable__content pre {margin: 0.2em;color: black;border-radius: 0.25em;background-color: #f0f8ff;}#sk-container-id-1 input.sk-toggleable__control:checked~div.sk-toggleable__content {max-height: 200px;max-width: 100%;overflow: auto;}#sk-container-id-1 input.sk-toggleable__control:checked~label.sk-toggleable__label-arrow:before {content: \"▾\";}#sk-container-id-1 div.sk-estimator input.sk-toggleable__control:checked~label.sk-toggleable__label {background-color: #d4ebff;}#sk-container-id-1 div.sk-label input.sk-toggleable__control:checked~label.sk-toggleable__label {background-color: #d4ebff;}#sk-container-id-1 input.sk-hidden--visually {border: 0;clip: rect(1px 1px 1px 1px);clip: rect(1px, 1px, 1px, 1px);height: 1px;margin: -1px;overflow: hidden;padding: 0;position: absolute;width: 1px;}#sk-container-id-1 div.sk-estimator {font-family: monospace;background-color: #f0f8ff;border: 1px dotted black;border-radius: 0.25em;box-sizing: border-box;margin-bottom: 0.5em;}#sk-container-id-1 div.sk-estimator:hover {background-color: #d4ebff;}#sk-container-id-1 div.sk-parallel-item::after {content: \"\";width: 100%;border-bottom: 1px solid gray;flex-grow: 1;}#sk-container-id-1 div.sk-label:hover label.sk-toggleable__label {background-color: #d4ebff;}#sk-container-id-1 div.sk-serial::before {content: \"\";position: absolute;border-left: 1px solid gray;box-sizing: border-box;top: 0;bottom: 0;left: 50%;z-index: 0;}#sk-container-id-1 div.sk-serial {display: flex;flex-direction: column;align-items: center;background-color: white;padding-right: 0.2em;padding-left: 0.2em;position: relative;}#sk-container-id-1 div.sk-item {position: relative;z-index: 1;}#sk-container-id-1 div.sk-parallel {display: flex;align-items: stretch;justify-content: center;background-color: white;position: relative;}#sk-container-id-1 div.sk-item::before, #sk-container-id-1 div.sk-parallel-item::before {content: \"\";position: absolute;border-left: 1px solid gray;box-sizing: border-box;top: 0;bottom: 0;left: 50%;z-index: -1;}#sk-container-id-1 div.sk-parallel-item {display: flex;flex-direction: column;z-index: 1;position: relative;background-color: white;}#sk-container-id-1 div.sk-parallel-item:first-child::after {align-self: flex-end;width: 50%;}#sk-container-id-1 div.sk-parallel-item:last-child::after {align-self: flex-start;width: 50%;}#sk-container-id-1 div.sk-parallel-item:only-child::after {width: 0;}#sk-container-id-1 div.sk-dashed-wrapped {border: 1px dashed gray;margin: 0 0.4em 0.5em 0.4em;box-sizing: border-box;padding-bottom: 0.4em;background-color: white;}#sk-container-id-1 div.sk-label label {font-family: monospace;font-weight: bold;display: inline-block;line-height: 1.2em;}#sk-container-id-1 div.sk-label-container {text-align: center;}#sk-container-id-1 div.sk-container {/* jupyter's `normalize.less` sets `[hidden] { display: none; }` but bootstrap.min.css set `[hidden] { display: none !important; }` so we also need the `!important` here to be able to override the default hidden behavior on the sphinx rendered scikit-learn.org. See: https://github.com/scikit-learn/scikit-learn/issues/21755 */display: inline-block !important;position: relative;}#sk-container-id-1 div.sk-text-repr-fallback {display: none;}</style><div id=\"sk-container-id-1\" class=\"sk-top-container\"><div class=\"sk-text-repr-fallback\"><pre>AdaBoostClassifier(random_state=8)</pre><b>In a Jupyter environment, please rerun this cell to show the HTML representation or trust the notebook. <br />On GitHub, the HTML representation is unable to render, please try loading this page with nbviewer.org.</b></div><div class=\"sk-container\" hidden><div class=\"sk-item\"><div class=\"sk-estimator sk-toggleable\"><input class=\"sk-toggleable__control sk-hidden--visually\" id=\"sk-estimator-id-1\" type=\"checkbox\" checked><label for=\"sk-estimator-id-1\" class=\"sk-toggleable__label sk-toggleable__label-arrow\">AdaBoostClassifier</label><div class=\"sk-toggleable__content\"><pre>AdaBoostClassifier(random_state=8)</pre></div></div></div></div></div>"
      ],
      "text/plain": [
       "AdaBoostClassifier(random_state=8)"
      ]
     },
     "execution_count": 7,
     "metadata": {},
     "output_type": "execute_result"
    }
   ],
   "source": [
    "model.fit(X_train, y_train.values.ravel())"
   ]
  },
  {
   "cell_type": "markdown",
   "id": "ddc7cc45-f637-43bb-9376-96e51df111e7",
   "metadata": {},
   "source": [
    "### Feature Selection"
   ]
  },
  {
   "cell_type": "code",
   "execution_count": 8,
   "id": "4647c372-62aa-426a-9a65-890ec9ea0890",
   "metadata": {},
   "outputs": [
    {
     "data": {
      "text/plain": [
       "array([0.02, 0.02, 0.24, 0.04, 0.02, 0.02, 0.  , 0.02, 0.  , 0.  , 0.  ,\n",
       "       0.  , 0.  , 0.02, 0.  , 0.  , 0.  , 0.  , 0.  , 0.  , 0.  , 0.  ,\n",
       "       0.  , 0.  , 0.02, 0.02, 0.02, 0.06, 0.  , 0.02, 0.02, 0.  , 0.02,\n",
       "       0.  , 0.  , 0.02, 0.  , 0.04, 0.04, 0.  , 0.02, 0.12, 0.  , 0.02,\n",
       "       0.02, 0.  , 0.  , 0.02, 0.02, 0.  , 0.02, 0.02, 0.  , 0.  , 0.  ,\n",
       "       0.04, 0.02])"
      ]
     },
     "execution_count": 8,
     "metadata": {},
     "output_type": "execute_result"
    }
   ],
   "source": [
    "model.feature_importances_"
   ]
  },
  {
   "cell_type": "markdown",
   "id": "91c19fa6-c80e-4d71-871f-8d17afad862a",
   "metadata": {},
   "source": [
    "Looking at the above list, we get to know that a lot of the features are not very important for the model. Removing these might reduce the noise that the model is trying to fit to and thus reduce overfitting."
   ]
  },
  {
   "cell_type": "markdown",
   "id": "758062cf-b24e-411c-b10f-5be4b4a0fe1a",
   "metadata": {},
   "source": [
    "Finding all the features that have non-zero feature_importance value and copying it to new dataframes"
   ]
  },
  {
   "cell_type": "code",
   "execution_count": 9,
   "id": "2cdca916-e964-451d-b413-002089d0517a",
   "metadata": {},
   "outputs": [],
   "source": [
    "# function to filter non-zero elements\n",
    "def filter_non_zero(elem):\n",
    "    return elem[1] != 0\n",
    " \n",
    "# Index of Non-Zero elements in Python list\n",
    "# using filter() function\n",
    "filtered_output = filter(filter_non_zero, enumerate(model.feature_importances_))\n",
    "res = list(map(lambda x: x[0], filtered_output))"
   ]
  },
  {
   "cell_type": "code",
   "execution_count": 10,
   "id": "31685e2e-e4d8-402a-9694-025580466f91",
   "metadata": {},
   "outputs": [],
   "source": [
    "X_train_cleaned = X_train.iloc[:,res]\n",
    "X_val_cleaned = X_val.iloc[:,res]\n",
    "X_test_cleaned = X_test.iloc[:,res]"
   ]
  },
  {
   "cell_type": "markdown",
   "id": "d54616f9-6eee-4b46-8e06-a4d566fa8ae6",
   "metadata": {},
   "source": [
    "Let us check the performance of the model now"
   ]
  },
  {
   "cell_type": "code",
   "execution_count": 11,
   "id": "b4fdbb6d-1fdf-4434-a50f-f2d2ba0048ef",
   "metadata": {},
   "outputs": [
    {
     "name": "stdout",
     "output_type": "stream",
     "text": [
      "The AUROC value for the training set is:  0.9965946779711462\n",
      "The AUROC value for the validation set is:  0.9960520967401683\n"
     ]
    }
   ],
   "source": [
    "fit_predict_proba(model, X_train_cleaned, y_train.values.ravel(), X_val_cleaned, y_val.values.ravel())"
   ]
  },
  {
   "cell_type": "markdown",
   "id": "62b9e897-3c1d-46da-8ca2-23e520b6006a",
   "metadata": {},
   "source": [
    "The model performance has remained almost same. We will continue with only these features."
   ]
  },
  {
   "cell_type": "markdown",
   "id": "6ec02e9c-1603-48fa-8df2-78ea784b9d60",
   "metadata": {},
   "source": [
    "### Automated Hyperparameter tuning"
   ]
  },
  {
   "cell_type": "markdown",
   "id": "00028e24-1324-493c-8352-edf14d8fa2da",
   "metadata": {},
   "source": [
    "I will be using Randomized Search for hyperparameter tuning"
   ]
  },
  {
   "cell_type": "code",
   "execution_count": 12,
   "id": "07e7a6e7-9b76-4bef-a14c-fa8546cae9df",
   "metadata": {},
   "outputs": [],
   "source": [
    "from sklearn.model_selection import RandomizedSearchCV"
   ]
  },
  {
   "cell_type": "markdown",
   "id": "cd977542-f349-45ff-afd0-328c1924ba26",
   "metadata": {},
   "source": [
    "From my manual executions, I have found that the range of hyperparameter values where the model performs best. I have excluded the manual executions from the final submission notebook."
   ]
  },
  {
   "cell_type": "code",
   "execution_count": 26,
   "id": "9e111ff7-323f-4759-8e2b-867d1ff1a7fa",
   "metadata": {},
   "outputs": [],
   "source": [
    "from scipy.stats import uniform\n",
    "from scipy.stats import randint\n",
    "hyperparams_dist = {\n",
    "    'n_estimators': randint(50, 300),\n",
    "    'learning_rate': uniform(0.3, 0.7)\n",
    "    }\n",
    "\n",
    "scoring = 'roc_auc'"
   ]
  },
  {
   "cell_type": "code",
   "execution_count": 27,
   "id": "2533202b-761e-4b12-a8b4-ec3cb2f3effd",
   "metadata": {},
   "outputs": [],
   "source": [
    "rs_model = RandomizedSearchCV(model, hyperparams_dist, random_state=8, verbose=1, scoring=scoring)"
   ]
  },
  {
   "cell_type": "code",
   "execution_count": 28,
   "id": "246596ca-ab70-474f-9c42-e7c8c5887974",
   "metadata": {},
   "outputs": [
    {
     "name": "stdout",
     "output_type": "stream",
     "text": [
      "Fitting 5 folds for each of 10 candidates, totalling 50 fits\n"
     ]
    },
    {
     "data": {
      "text/html": [
       "<style>#sk-container-id-3 {color: black;}#sk-container-id-3 pre{padding: 0;}#sk-container-id-3 div.sk-toggleable {background-color: white;}#sk-container-id-3 label.sk-toggleable__label {cursor: pointer;display: block;width: 100%;margin-bottom: 0;padding: 0.3em;box-sizing: border-box;text-align: center;}#sk-container-id-3 label.sk-toggleable__label-arrow:before {content: \"▸\";float: left;margin-right: 0.25em;color: #696969;}#sk-container-id-3 label.sk-toggleable__label-arrow:hover:before {color: black;}#sk-container-id-3 div.sk-estimator:hover label.sk-toggleable__label-arrow:before {color: black;}#sk-container-id-3 div.sk-toggleable__content {max-height: 0;max-width: 0;overflow: hidden;text-align: left;background-color: #f0f8ff;}#sk-container-id-3 div.sk-toggleable__content pre {margin: 0.2em;color: black;border-radius: 0.25em;background-color: #f0f8ff;}#sk-container-id-3 input.sk-toggleable__control:checked~div.sk-toggleable__content {max-height: 200px;max-width: 100%;overflow: auto;}#sk-container-id-3 input.sk-toggleable__control:checked~label.sk-toggleable__label-arrow:before {content: \"▾\";}#sk-container-id-3 div.sk-estimator input.sk-toggleable__control:checked~label.sk-toggleable__label {background-color: #d4ebff;}#sk-container-id-3 div.sk-label input.sk-toggleable__control:checked~label.sk-toggleable__label {background-color: #d4ebff;}#sk-container-id-3 input.sk-hidden--visually {border: 0;clip: rect(1px 1px 1px 1px);clip: rect(1px, 1px, 1px, 1px);height: 1px;margin: -1px;overflow: hidden;padding: 0;position: absolute;width: 1px;}#sk-container-id-3 div.sk-estimator {font-family: monospace;background-color: #f0f8ff;border: 1px dotted black;border-radius: 0.25em;box-sizing: border-box;margin-bottom: 0.5em;}#sk-container-id-3 div.sk-estimator:hover {background-color: #d4ebff;}#sk-container-id-3 div.sk-parallel-item::after {content: \"\";width: 100%;border-bottom: 1px solid gray;flex-grow: 1;}#sk-container-id-3 div.sk-label:hover label.sk-toggleable__label {background-color: #d4ebff;}#sk-container-id-3 div.sk-serial::before {content: \"\";position: absolute;border-left: 1px solid gray;box-sizing: border-box;top: 0;bottom: 0;left: 50%;z-index: 0;}#sk-container-id-3 div.sk-serial {display: flex;flex-direction: column;align-items: center;background-color: white;padding-right: 0.2em;padding-left: 0.2em;position: relative;}#sk-container-id-3 div.sk-item {position: relative;z-index: 1;}#sk-container-id-3 div.sk-parallel {display: flex;align-items: stretch;justify-content: center;background-color: white;position: relative;}#sk-container-id-3 div.sk-item::before, #sk-container-id-3 div.sk-parallel-item::before {content: \"\";position: absolute;border-left: 1px solid gray;box-sizing: border-box;top: 0;bottom: 0;left: 50%;z-index: -1;}#sk-container-id-3 div.sk-parallel-item {display: flex;flex-direction: column;z-index: 1;position: relative;background-color: white;}#sk-container-id-3 div.sk-parallel-item:first-child::after {align-self: flex-end;width: 50%;}#sk-container-id-3 div.sk-parallel-item:last-child::after {align-self: flex-start;width: 50%;}#sk-container-id-3 div.sk-parallel-item:only-child::after {width: 0;}#sk-container-id-3 div.sk-dashed-wrapped {border: 1px dashed gray;margin: 0 0.4em 0.5em 0.4em;box-sizing: border-box;padding-bottom: 0.4em;background-color: white;}#sk-container-id-3 div.sk-label label {font-family: monospace;font-weight: bold;display: inline-block;line-height: 1.2em;}#sk-container-id-3 div.sk-label-container {text-align: center;}#sk-container-id-3 div.sk-container {/* jupyter's `normalize.less` sets `[hidden] { display: none; }` but bootstrap.min.css set `[hidden] { display: none !important; }` so we also need the `!important` here to be able to override the default hidden behavior on the sphinx rendered scikit-learn.org. See: https://github.com/scikit-learn/scikit-learn/issues/21755 */display: inline-block !important;position: relative;}#sk-container-id-3 div.sk-text-repr-fallback {display: none;}</style><div id=\"sk-container-id-3\" class=\"sk-top-container\"><div class=\"sk-text-repr-fallback\"><pre>RandomizedSearchCV(estimator=AdaBoostClassifier(random_state=8),\n",
       "                   param_distributions={&#x27;learning_rate&#x27;: &lt;scipy.stats._distn_infrastructure.rv_continuous_frozen object at 0x000002556BED4450&gt;,\n",
       "                                        &#x27;n_estimators&#x27;: &lt;scipy.stats._distn_infrastructure.rv_discrete_frozen object at 0x000002556BED4C90&gt;},\n",
       "                   random_state=8, scoring=&#x27;roc_auc&#x27;, verbose=1)</pre><b>In a Jupyter environment, please rerun this cell to show the HTML representation or trust the notebook. <br />On GitHub, the HTML representation is unable to render, please try loading this page with nbviewer.org.</b></div><div class=\"sk-container\" hidden><div class=\"sk-item sk-dashed-wrapped\"><div class=\"sk-label-container\"><div class=\"sk-label sk-toggleable\"><input class=\"sk-toggleable__control sk-hidden--visually\" id=\"sk-estimator-id-5\" type=\"checkbox\" ><label for=\"sk-estimator-id-5\" class=\"sk-toggleable__label sk-toggleable__label-arrow\">RandomizedSearchCV</label><div class=\"sk-toggleable__content\"><pre>RandomizedSearchCV(estimator=AdaBoostClassifier(random_state=8),\n",
       "                   param_distributions={&#x27;learning_rate&#x27;: &lt;scipy.stats._distn_infrastructure.rv_continuous_frozen object at 0x000002556BED4450&gt;,\n",
       "                                        &#x27;n_estimators&#x27;: &lt;scipy.stats._distn_infrastructure.rv_discrete_frozen object at 0x000002556BED4C90&gt;},\n",
       "                   random_state=8, scoring=&#x27;roc_auc&#x27;, verbose=1)</pre></div></div></div><div class=\"sk-parallel\"><div class=\"sk-parallel-item\"><div class=\"sk-item\"><div class=\"sk-label-container\"><div class=\"sk-label sk-toggleable\"><input class=\"sk-toggleable__control sk-hidden--visually\" id=\"sk-estimator-id-6\" type=\"checkbox\" ><label for=\"sk-estimator-id-6\" class=\"sk-toggleable__label sk-toggleable__label-arrow\">estimator: AdaBoostClassifier</label><div class=\"sk-toggleable__content\"><pre>AdaBoostClassifier(random_state=8)</pre></div></div></div><div class=\"sk-serial\"><div class=\"sk-item\"><div class=\"sk-estimator sk-toggleable\"><input class=\"sk-toggleable__control sk-hidden--visually\" id=\"sk-estimator-id-7\" type=\"checkbox\" ><label for=\"sk-estimator-id-7\" class=\"sk-toggleable__label sk-toggleable__label-arrow\">AdaBoostClassifier</label><div class=\"sk-toggleable__content\"><pre>AdaBoostClassifier(random_state=8)</pre></div></div></div></div></div></div></div></div></div></div>"
      ],
      "text/plain": [
       "RandomizedSearchCV(estimator=AdaBoostClassifier(random_state=8),\n",
       "                   param_distributions={'learning_rate': <scipy.stats._distn_infrastructure.rv_continuous_frozen object at 0x000002556BED4450>,\n",
       "                                        'n_estimators': <scipy.stats._distn_infrastructure.rv_discrete_frozen object at 0x000002556BED4C90>},\n",
       "                   random_state=8, scoring='roc_auc', verbose=1)"
      ]
     },
     "execution_count": 28,
     "metadata": {},
     "output_type": "execute_result"
    }
   ],
   "source": [
    "rs_model.fit(X_train_cleaned, y_train.values.ravel())"
   ]
  },
  {
   "cell_type": "code",
   "execution_count": 29,
   "id": "520e0884-ed1e-4480-a09d-5d524f2fe0dd",
   "metadata": {},
   "outputs": [
    {
     "data": {
      "text/plain": [
       "{'learning_rate': 0.9114005819542714, 'n_estimators': 291}"
      ]
     },
     "execution_count": 29,
     "metadata": {},
     "output_type": "execute_result"
    }
   ],
   "source": [
    "rs_model.best_params_"
   ]
  },
  {
   "cell_type": "code",
   "execution_count": 30,
   "id": "0f9fcd00-9624-4a32-9d61-807e4808902b",
   "metadata": {},
   "outputs": [],
   "source": [
    "final_model = AdaBoostClassifier(random_state=8, n_estimators = rs_model.best_params_['n_estimators'], learning_rate=rs_model.best_params_['learning_rate'])"
   ]
  },
  {
   "cell_type": "code",
   "execution_count": 32,
   "id": "3b0164af-8716-406f-b017-4bf5b906979b",
   "metadata": {},
   "outputs": [
    {
     "name": "stdout",
     "output_type": "stream",
     "text": [
      "The AUROC value for the training set is:  0.9989965086788659\n",
      "The AUROC value for the validation set is:  0.9979736563069224\n"
     ]
    }
   ],
   "source": [
    "fit_predict_proba(final_model, X_train_cleaned, y_train.values.ravel(), X_val_cleaned, y_val.values.ravel())"
   ]
  },
  {
   "cell_type": "markdown",
   "id": "a73d58d5-6ed8-457d-8acd-a72c352a317d",
   "metadata": {},
   "source": [
    "## Testing and submission file preparation"
   ]
  },
  {
   "cell_type": "code",
   "execution_count": 33,
   "id": "03612fbc-2275-4c5b-b4c1-1616b4d5eee4",
   "metadata": {},
   "outputs": [],
   "source": [
    "df_submission = pd.DataFrame({})\n",
    "df_submission['player_id'] = df_test['player_id']\n",
    "df_submission['drafted'] = final_model.predict_proba(X_test_cleaned)[:,1]\n",
    "df_submission.to_csv('../data/processed/submission3.csv', index=False)"
   ]
  },
  {
   "cell_type": "code",
   "execution_count": null,
   "id": "23b4125d-cb20-43d6-aa7e-544a09371a65",
   "metadata": {},
   "outputs": [],
   "source": []
  }
 ],
 "metadata": {
  "kernelspec": {
   "display_name": "Python 3 (ipykernel)",
   "language": "python",
   "name": "python3"
  },
  "language_info": {
   "codemirror_mode": {
    "name": "ipython",
    "version": 3
   },
   "file_extension": ".py",
   "mimetype": "text/x-python",
   "name": "python",
   "nbconvert_exporter": "python",
   "pygments_lexer": "ipython3",
   "version": "3.11.4"
  }
 },
 "nbformat": 4,
 "nbformat_minor": 5
}
